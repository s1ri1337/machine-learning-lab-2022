{
 "cells": [
  {
   "cell_type": "code",
   "execution_count": 103,
   "id": "44b1d909",
   "metadata": {},
   "outputs": [],
   "source": [
    "import pandas as pd\n",
    "import numpy as np\n",
    "import matplotlib.pyplot as plt\n",
    "import seaborn as sns\n",
    "from sklearn.model_selection import train_test_split\n",
    "from sklearn.linear_model import LogisticRegression\n",
    "import sklearn.metrics\n",
    "from scipy.stats import chi2_contingency"
   ]
  },
  {
   "cell_type": "markdown",
   "id": "9e0de154",
   "metadata": {},
   "source": [
    "# Q1 Use the “pima-indians-diabetes.csv” dataset and note down the meta information."
   ]
  },
  {
   "cell_type": "markdown",
   "id": "df98d6e2",
   "metadata": {},
   "source": [
    "The diagnostic, binary-valued variable investigated is whether the\n",
    "patient shows signs of diabetes according to World Health Organization\n",
    "criteria (i.e., if the 2 hour post-load plasma glucose was at least \n",
    "200 mg/dl at any survey  examination or if found during routine medical\n",
    "care).   The population lives near Phoenix, Arizona, USA."
   ]
  },
  {
   "cell_type": "markdown",
   "id": "2c536954",
   "metadata": {},
   "source": [
    "Results: Their ADAP algorithm makes a real-valued prediction between\n",
    "0 and 1.  This was transformed into a binary decision using a cutoff of \n",
    "0.448.  Using 576 training instances, the sensitivity and specificity\n",
    "of their algorithm was 76% on the remaining 192 instances."
   ]
  },
  {
   "cell_type": "markdown",
   "id": "e5a1a088",
   "metadata": {},
   "source": [
    "Several constraints were placed on the selection of these instances from\n",
    "a larger database.  In particular, all patients here are females at\n",
    "least 21 years old of Pima Indian heritage.  ADAP is an adaptive learning\n",
    "routine that generates and executes digital analogs of perceptron-like\n",
    "devices.  It is a unique algorithm; see the paper for details."
   ]
  },
  {
   "cell_type": "markdown",
   "id": "eec59914",
   "metadata": {},
   "source": [
    "Number of Instances: 768\n",
    "\n",
    "Number of Attributes: 8 plus class"
   ]
  },
  {
   "cell_type": "markdown",
   "id": "056cdb42",
   "metadata": {},
   "source": [
    "@attribute 'preg' real\n",
    "\n",
    "@attribute 'plas' real\n",
    "\n",
    "@attribute 'pres' real\n",
    "\n",
    "@attribute 'skin' real\n",
    "\n",
    "@attribute 'insu' real\n",
    "\n",
    "@attribute 'mass' real\n",
    "\n",
    "@attribute 'pedi' real\n",
    "\n",
    "@attribute 'age' real\n",
    "\n",
    "@attribute 'class' { tested_negative, tested_positive}"
   ]
  },
  {
   "cell_type": "markdown",
   "id": "a4115c91",
   "metadata": {},
   "source": [
    "# Q2 Compute mean & standard deviation ,tabulate and visualize the age of the patients."
   ]
  },
  {
   "cell_type": "code",
   "execution_count": 53,
   "id": "df1c6844",
   "metadata": {},
   "outputs": [
    {
     "data": {
      "text/html": [
       "<div>\n",
       "<style scoped>\n",
       "    .dataframe tbody tr th:only-of-type {\n",
       "        vertical-align: middle;\n",
       "    }\n",
       "\n",
       "    .dataframe tbody tr th {\n",
       "        vertical-align: top;\n",
       "    }\n",
       "\n",
       "    .dataframe thead th {\n",
       "        text-align: right;\n",
       "    }\n",
       "</style>\n",
       "<table border=\"1\" class=\"dataframe\">\n",
       "  <thead>\n",
       "    <tr style=\"text-align: right;\">\n",
       "      <th></th>\n",
       "      <th>preg</th>\n",
       "      <th>plas</th>\n",
       "      <th>pres</th>\n",
       "      <th>skin</th>\n",
       "      <th>insu</th>\n",
       "      <th>mass</th>\n",
       "      <th>pedi</th>\n",
       "      <th>age</th>\n",
       "      <th>class</th>\n",
       "    </tr>\n",
       "  </thead>\n",
       "  <tbody>\n",
       "    <tr>\n",
       "      <th>0</th>\n",
       "      <td>6</td>\n",
       "      <td>148</td>\n",
       "      <td>72</td>\n",
       "      <td>35</td>\n",
       "      <td>0</td>\n",
       "      <td>33.6</td>\n",
       "      <td>0.627</td>\n",
       "      <td>50</td>\n",
       "      <td>tested_positive</td>\n",
       "    </tr>\n",
       "    <tr>\n",
       "      <th>1</th>\n",
       "      <td>1</td>\n",
       "      <td>85</td>\n",
       "      <td>66</td>\n",
       "      <td>29</td>\n",
       "      <td>0</td>\n",
       "      <td>26.6</td>\n",
       "      <td>0.351</td>\n",
       "      <td>31</td>\n",
       "      <td>tested_negative</td>\n",
       "    </tr>\n",
       "    <tr>\n",
       "      <th>2</th>\n",
       "      <td>8</td>\n",
       "      <td>183</td>\n",
       "      <td>64</td>\n",
       "      <td>0</td>\n",
       "      <td>0</td>\n",
       "      <td>23.3</td>\n",
       "      <td>0.672</td>\n",
       "      <td>32</td>\n",
       "      <td>tested_positive</td>\n",
       "    </tr>\n",
       "    <tr>\n",
       "      <th>3</th>\n",
       "      <td>1</td>\n",
       "      <td>89</td>\n",
       "      <td>66</td>\n",
       "      <td>23</td>\n",
       "      <td>94</td>\n",
       "      <td>28.1</td>\n",
       "      <td>0.167</td>\n",
       "      <td>21</td>\n",
       "      <td>tested_negative</td>\n",
       "    </tr>\n",
       "    <tr>\n",
       "      <th>4</th>\n",
       "      <td>0</td>\n",
       "      <td>137</td>\n",
       "      <td>40</td>\n",
       "      <td>35</td>\n",
       "      <td>168</td>\n",
       "      <td>43.1</td>\n",
       "      <td>2.288</td>\n",
       "      <td>33</td>\n",
       "      <td>tested_positive</td>\n",
       "    </tr>\n",
       "  </tbody>\n",
       "</table>\n",
       "</div>"
      ],
      "text/plain": [
       "   preg  plas  pres  skin  insu  mass   pedi  age            class\n",
       "0     6   148    72    35     0  33.6  0.627   50  tested_positive\n",
       "1     1    85    66    29     0  26.6  0.351   31  tested_negative\n",
       "2     8   183    64     0     0  23.3  0.672   32  tested_positive\n",
       "3     1    89    66    23    94  28.1  0.167   21  tested_negative\n",
       "4     0   137    40    35   168  43.1  2.288   33  tested_positive"
      ]
     },
     "execution_count": 53,
     "metadata": {},
     "output_type": "execute_result"
    }
   ],
   "source": [
    "df = pd.read_csv('Downloads/diabetes.csv', names = ['preg', 'plas', 'pres', 'skin', 'insu', 'mass', 'pedi', 'age', 'class'])\n",
    "df.head()"
   ]
  },
  {
   "cell_type": "code",
   "execution_count": 54,
   "id": "8b5eecd4",
   "metadata": {},
   "outputs": [],
   "source": [
    "def str2cat(s):\n",
    "    if s == \"tested_positive\":\n",
    "        return 1\n",
    "    else:\n",
    "        return 0\n",
    "\n",
    "df['class'] = df['class'].apply(str2cat)"
   ]
  },
  {
   "cell_type": "code",
   "execution_count": 55,
   "id": "68c28765",
   "metadata": {},
   "outputs": [
    {
     "data": {
      "text/html": [
       "<div>\n",
       "<style scoped>\n",
       "    .dataframe tbody tr th:only-of-type {\n",
       "        vertical-align: middle;\n",
       "    }\n",
       "\n",
       "    .dataframe tbody tr th {\n",
       "        vertical-align: top;\n",
       "    }\n",
       "\n",
       "    .dataframe thead th {\n",
       "        text-align: right;\n",
       "    }\n",
       "</style>\n",
       "<table border=\"1\" class=\"dataframe\">\n",
       "  <thead>\n",
       "    <tr style=\"text-align: right;\">\n",
       "      <th></th>\n",
       "      <th>preg</th>\n",
       "      <th>plas</th>\n",
       "      <th>pres</th>\n",
       "      <th>skin</th>\n",
       "      <th>insu</th>\n",
       "      <th>mass</th>\n",
       "      <th>pedi</th>\n",
       "      <th>age</th>\n",
       "      <th>class</th>\n",
       "    </tr>\n",
       "  </thead>\n",
       "  <tbody>\n",
       "    <tr>\n",
       "      <th>0</th>\n",
       "      <td>6</td>\n",
       "      <td>148</td>\n",
       "      <td>72</td>\n",
       "      <td>35</td>\n",
       "      <td>0</td>\n",
       "      <td>33.6</td>\n",
       "      <td>0.627</td>\n",
       "      <td>50</td>\n",
       "      <td>1</td>\n",
       "    </tr>\n",
       "    <tr>\n",
       "      <th>1</th>\n",
       "      <td>1</td>\n",
       "      <td>85</td>\n",
       "      <td>66</td>\n",
       "      <td>29</td>\n",
       "      <td>0</td>\n",
       "      <td>26.6</td>\n",
       "      <td>0.351</td>\n",
       "      <td>31</td>\n",
       "      <td>0</td>\n",
       "    </tr>\n",
       "    <tr>\n",
       "      <th>2</th>\n",
       "      <td>8</td>\n",
       "      <td>183</td>\n",
       "      <td>64</td>\n",
       "      <td>0</td>\n",
       "      <td>0</td>\n",
       "      <td>23.3</td>\n",
       "      <td>0.672</td>\n",
       "      <td>32</td>\n",
       "      <td>1</td>\n",
       "    </tr>\n",
       "    <tr>\n",
       "      <th>3</th>\n",
       "      <td>1</td>\n",
       "      <td>89</td>\n",
       "      <td>66</td>\n",
       "      <td>23</td>\n",
       "      <td>94</td>\n",
       "      <td>28.1</td>\n",
       "      <td>0.167</td>\n",
       "      <td>21</td>\n",
       "      <td>0</td>\n",
       "    </tr>\n",
       "    <tr>\n",
       "      <th>4</th>\n",
       "      <td>0</td>\n",
       "      <td>137</td>\n",
       "      <td>40</td>\n",
       "      <td>35</td>\n",
       "      <td>168</td>\n",
       "      <td>43.1</td>\n",
       "      <td>2.288</td>\n",
       "      <td>33</td>\n",
       "      <td>1</td>\n",
       "    </tr>\n",
       "  </tbody>\n",
       "</table>\n",
       "</div>"
      ],
      "text/plain": [
       "   preg  plas  pres  skin  insu  mass   pedi  age  class\n",
       "0     6   148    72    35     0  33.6  0.627   50      1\n",
       "1     1    85    66    29     0  26.6  0.351   31      0\n",
       "2     8   183    64     0     0  23.3  0.672   32      1\n",
       "3     1    89    66    23    94  28.1  0.167   21      0\n",
       "4     0   137    40    35   168  43.1  2.288   33      1"
      ]
     },
     "execution_count": 55,
     "metadata": {},
     "output_type": "execute_result"
    }
   ],
   "source": [
    "df.head()"
   ]
  },
  {
   "cell_type": "code",
   "execution_count": 56,
   "id": "a912ea25",
   "metadata": {},
   "outputs": [
    {
     "name": "stdout",
     "output_type": "stream",
     "text": [
      "Average age of the patients is 33.240885416666664 and standard deviation is 11.76023154067868\n"
     ]
    }
   ],
   "source": [
    "print('Average age of the patients is', df.age.mean(), \"and standard deviation is\", df.age.std())"
   ]
  },
  {
   "cell_type": "code",
   "execution_count": 57,
   "id": "e1f2bea4",
   "metadata": {},
   "outputs": [
    {
     "data": {
      "text/plain": [
       "<AxesSubplot:xlabel='age', ylabel='Density'>"
      ]
     },
     "execution_count": 57,
     "metadata": {},
     "output_type": "execute_result"
    },
    {
     "data": {
      "image/png": "[encoded data removed]",
      "text/plain": [
       "<Figure size 432x288 with 1 Axes>"
      ]
     },
     "metadata": {
      "needs_background": "light"
     },
     "output_type": "display_data"
    }
   ],
   "source": [
    "sns.kdeplot(data = df.age, color = 'orange', shade = True)"
   ]
  },
  {
   "cell_type": "markdown",
   "id": "ac53f5db",
   "metadata": {},
   "source": [
    "# Q3 Analyze and tabulate therelationship of age,BMI of patients with respect to the class."
   ]
  },
  {
   "cell_type": "code",
   "execution_count": 64,
   "id": "aca28c87",
   "metadata": {},
   "outputs": [
    {
     "name": "stdout",
     "output_type": "stream",
     "text": [
      "Outliers have been removed\n"
     ]
    },
    {
     "data": {
      "text/plain": [
       "<AxesSubplot:>"
      ]
     },
     "execution_count": 64,
     "metadata": {},
     "output_type": "execute_result"
    },
    {
     "data": {
      "image/png": "[encoded data removed]",
      "text/plain": [
       "<Figure size 432x288 with 1 Axes>"
      ]
     },
     "metadata": {
      "needs_background": "light"
     },
     "output_type": "display_data"
    }
   ],
   "source": [
    "def outlier_normalisation(data):\n",
    "    upper = data.quantile(0.75)\n",
    "    lower = data.quantile(0.25)\n",
    "    iqr = upper - lower\n",
    "    factor = iqr * 1.5\n",
    "    cond = (data >= upper + factor) | (data <= lower - factor)\n",
    "    data.loc[cond] = data.median()\n",
    "    return data\n",
    "\n",
    "df[['preg','plas','pres','skin','insu','mass','pedi','age']] = df[['preg','plas','pres','skin','insu','mass','pedi','age']].apply(outlier_normalisation)\n",
    "print(\"Outliers have been removed\")\n",
    "sns.boxplot(data = df)"
   ]
  },
  {
   "cell_type": "code",
   "execution_count": 59,
   "id": "40ad4d8c",
   "metadata": {},
   "outputs": [
    {
     "name": "stdout",
     "output_type": "stream",
     "text": [
      "5.354261982147526e-11\n",
      "P-value is less than 0.05 which means that there is a genuine relationship between age and class of patients\n"
     ]
    }
   ],
   "source": [
    "chi_square_test = pd.crosstab(index = df['class'], columns = df['age'])\n",
    "c, p, dof, expected = chi2_contingency(chi_square_test)\n",
    "print(p)\n",
    "print(\"P-value is less than 0.05 which means that there is a genuine relationship between age and class of patients\")"
   ]
  },
  {
   "cell_type": "code",
   "execution_count": 60,
   "id": "6e8bf858",
   "metadata": {},
   "outputs": [
    {
     "name": "stdout",
     "output_type": "stream",
     "text": [
      "0.05271826184548281\n",
      "P-value is less than 0.05 which means that there is a genuine relationship between bmi and class of patients\n"
     ]
    }
   ],
   "source": [
    "chi_square_test = pd.crosstab(index = df['class'], columns = df['mass'])\n",
    "c, p, dof, expected = chi2_contingency(chi_square_test)\n",
    "print(p)\n",
    "print(\"P-value is less than 0.05 which means that there is a genuine relationship between bmi and class of patients\")"
   ]
  },
  {
   "cell_type": "code",
   "execution_count": 51,
   "id": "a9cc0374",
   "metadata": {},
   "outputs": [
    {
     "data": {
      "text/plain": [
       "<seaborn.axisgrid.FacetGrid at 0x1a22fdaa490>"
      ]
     },
     "execution_count": 51,
     "metadata": {},
     "output_type": "execute_result"
    },
    {
     "data": {
      "image/png": "[encoded data removed]",
      "text/plain": [
       "<Figure size 360x360 with 1 Axes>"
      ]
     },
     "metadata": {
      "needs_background": "light"
     },
     "output_type": "display_data"
    }
   ],
   "source": [
    "sns.catplot(data = df, x = 'class', y = 'age')"
   ]
  },
  {
   "cell_type": "code",
   "execution_count": 52,
   "id": "41cf961f",
   "metadata": {},
   "outputs": [
    {
     "data": {
      "text/plain": [
       "<seaborn.axisgrid.FacetGrid at 0x1a22fd0e5b0>"
      ]
     },
     "execution_count": 52,
     "metadata": {},
     "output_type": "execute_result"
    },
    {
     "data": {
      "image/png": "[encoded data removed]",
      "text/plain": [
       "<Figure size 360x360 with 1 Axes>"
      ]
     },
     "metadata": {
      "needs_background": "light"
     },
     "output_type": "display_data"
    }
   ],
   "source": [
    "sns.catplot(data = df, x = 'class', y = 'mass')"
   ]
  },
  {
   "cell_type": "markdown",
   "id": "cacb438b",
   "metadata": {},
   "source": [
    "# Q4 Tabulate the class label and comment on whether the classes are balanced."
   ]
  },
  {
   "cell_type": "code",
   "execution_count": 63,
   "id": "39a9f365",
   "metadata": {},
   "outputs": [
    {
     "name": "stdout",
     "output_type": "stream",
     "text": [
      "We see that the classes are not balanced and the data is skewed\n"
     ]
    },
    {
     "data": {
      "text/html": [
       "<div>\n",
       "<style scoped>\n",
       "    .dataframe tbody tr th:only-of-type {\n",
       "        vertical-align: middle;\n",
       "    }\n",
       "\n",
       "    .dataframe tbody tr th {\n",
       "        vertical-align: top;\n",
       "    }\n",
       "\n",
       "    .dataframe thead th {\n",
       "        text-align: right;\n",
       "    }\n",
       "</style>\n",
       "<table border=\"1\" class=\"dataframe\">\n",
       "  <thead>\n",
       "    <tr style=\"text-align: right;\">\n",
       "      <th></th>\n",
       "      <th>preg</th>\n",
       "      <th>plas</th>\n",
       "      <th>pres</th>\n",
       "      <th>skin</th>\n",
       "      <th>insu</th>\n",
       "      <th>mass</th>\n",
       "      <th>pedi</th>\n",
       "      <th>age</th>\n",
       "    </tr>\n",
       "    <tr>\n",
       "      <th>class</th>\n",
       "      <th></th>\n",
       "      <th></th>\n",
       "      <th></th>\n",
       "      <th></th>\n",
       "      <th></th>\n",
       "      <th></th>\n",
       "      <th></th>\n",
       "      <th></th>\n",
       "    </tr>\n",
       "  </thead>\n",
       "  <tbody>\n",
       "    <tr>\n",
       "      <th>0</th>\n",
       "      <td>500</td>\n",
       "      <td>500</td>\n",
       "      <td>500</td>\n",
       "      <td>500</td>\n",
       "      <td>500</td>\n",
       "      <td>500</td>\n",
       "      <td>500</td>\n",
       "      <td>500</td>\n",
       "    </tr>\n",
       "    <tr>\n",
       "      <th>1</th>\n",
       "      <td>268</td>\n",
       "      <td>268</td>\n",
       "      <td>268</td>\n",
       "      <td>268</td>\n",
       "      <td>268</td>\n",
       "      <td>268</td>\n",
       "      <td>268</td>\n",
       "      <td>268</td>\n",
       "    </tr>\n",
       "  </tbody>\n",
       "</table>\n",
       "</div>"
      ],
      "text/plain": [
       "       preg  plas  pres  skin  insu  mass  pedi  age\n",
       "class                                               \n",
       "0       500   500   500   500   500   500   500  500\n",
       "1       268   268   268   268   268   268   268  268"
      ]
     },
     "execution_count": 63,
     "metadata": {},
     "output_type": "execute_result"
    }
   ],
   "source": [
    "print(\"We see that the classes are not balanced and the data is skewed\")\n",
    "df.groupby('class').count()"
   ]
  },
  {
   "cell_type": "markdown",
   "id": "fb3f5e41",
   "metadata": {},
   "source": [
    "# Q5 Use the data set to build a logistic regression model (using sklearn) and predict the class label. Divide the dataset into training and test set (70,30) using train_test_split method in sklearn."
   ]
  },
  {
   "cell_type": "code",
   "execution_count": 123,
   "id": "78fb6869",
   "metadata": {},
   "outputs": [],
   "source": [
    "X = df[['preg','plas','pres','skin','insu','mass','pedi','age']]\n",
    "Y = df['class']\n",
    "train_x, test_x, train_y, test_y = train_test_split(X, Y, test_size = 0.3, random_state = 865)"
   ]
  },
  {
   "cell_type": "code",
   "execution_count": 124,
   "id": "da004a05",
   "metadata": {},
   "outputs": [
    {
     "name": "stdout",
     "output_type": "stream",
     "text": [
      "Precision = 0.7965367965367965\n"
     ]
    }
   ],
   "source": [
    "LogReg = LogisticRegression(max_iter = 10000).fit(train_x, train_y)\n",
    "print('Precision =', LogReg.score(test_x, test_y))"
   ]
  },
  {
   "cell_type": "markdown",
   "id": "af218294",
   "metadata": {},
   "source": [
    "# Q6 Use the test data set and evaluate the performance using a confusion matrix. Visualize the confusion matrix using a heat map."
   ]
  },
  {
   "cell_type": "code",
   "execution_count": 125,
   "id": "4fed03fc",
   "metadata": {},
   "outputs": [
    {
     "name": "stdout",
     "output_type": "stream",
     "text": [
      "[[132  13]\n",
      " [ 34  52]]\n"
     ]
    }
   ],
   "source": [
    "pred_y = LogReg.predict(test_x)\n",
    "true_y = test_y\n",
    "cf_matrix = sklearn.metrics.confusion_matrix(true_y, pred_y)\n",
    "print(cf_matrix)"
   ]
  },
  {
   "cell_type": "code",
   "execution_count": 126,
   "id": "23c8bf16",
   "metadata": {},
   "outputs": [
    {
     "data": {
      "image/png": "[encoded data removed]",
      "text/plain": [
       "<Figure size 432x288 with 2 Axes>"
      ]
     },
     "metadata": {
      "needs_background": "light"
     },
     "output_type": "display_data"
    }
   ],
   "source": [
    "ax = sns.heatmap(cf_matrix, annot=True)\n",
    "\n",
    "ax.set_title('Seaborn Confusion Matrix with labels');\n",
    "ax.set_xlabel('Predicted Values')\n",
    "ax.set_ylabel('Actual Values ');\n",
    "\n",
    "## Ticket labels - List must be in alphabetical order\n",
    "ax.xaxis.set_ticklabels(['False','True'])\n",
    "ax.yaxis.set_ticklabels(['False','True'])\n",
    "\n",
    "## Display the visualization of the Confusion Matrix.\n",
    "plt.show()"
   ]
  },
  {
   "cell_type": "markdown",
   "id": "e004c3b8",
   "metadata": {},
   "source": [
    "# Q7 Compute accuracy rate, true positive and true negative rate and comment on the performance."
   ]
  },
  {
   "cell_type": "code",
   "execution_count": 127,
   "id": "e88c2763",
   "metadata": {},
   "outputs": [],
   "source": [
    "TN = cf_matrix[0,0]\n",
    "FP = cf_matrix[0,1]\n",
    "FN = cf_matrix[1,0]\n",
    "TP = cf_matrix[1,1]"
   ]
  },
  {
   "cell_type": "code",
   "execution_count": 128,
   "id": "57e81646",
   "metadata": {},
   "outputs": [],
   "source": [
    "# Sensitivity, hit rate, recall, or true positive rate\n",
    "TPR = TP/(TP+FN)\n",
    "# Specificity or true negative rate\n",
    "TNR = TN/(TN+FP) \n",
    "# Overall accuracy\n",
    "ACC = (TP+TN)/(TP+FP+FN+TN)"
   ]
  },
  {
   "cell_type": "code",
   "execution_count": 129,
   "id": "fd7cbe7e",
   "metadata": {},
   "outputs": [
    {
     "name": "stdout",
     "output_type": "stream",
     "text": [
      "TPR = 0.6046511627906976\n",
      "TNR = 0.9103448275862069\n",
      "Accuracy = 0.7965367965367965\n"
     ]
    }
   ],
   "source": [
    "print(\"TPR =\", TPR)\n",
    "print(\"TNR =\", TNR)\n",
    "print(\"Accuracy =\", ACC)"
   ]
  },
  {
   "cell_type": "markdown",
   "id": "55b5b40d",
   "metadata": {},
   "source": [
    "# Q8 Visualize the ROC curve, and comment on the performance of the classifier."
   ]
  },
  {
   "cell_type": "code",
   "execution_count": 150,
   "id": "d2989107",
   "metadata": {},
   "outputs": [
    {
     "name": "stdout",
     "output_type": "stream",
     "text": [
      "0.8611868484362469\n",
      "The classifier has a very high AUC score which can be considered as an excellent analysis for the classification of diabetes \n"
     ]
    },
    {
     "data": {
      "image/png": "[encoded data removed]",
      "text/plain": [
       "<Figure size 432x288 with 1 Axes>"
      ]
     },
     "metadata": {
      "needs_background": "light"
     },
     "output_type": "display_data"
    }
   ],
   "source": [
    "pred_proba_y = LogReg.predict_proba(test_x)\n",
    "fpr, tpr, _ = sklearn.metrics.roc_curve(test_y,  pred_proba_y[::,1])\n",
    "print(sklearn.metrics.roc_auc_score(test_y, pred_proba_y[::,1]))\n",
    "print(\"The classifier has a very high AUC score which can be considered as an excellent analysis for the classification of diabetes \")\n",
    "plt.plot(fpr,tpr, color = 'green')\n",
    "plt.ylabel('True Positive Rate')\n",
    "plt.xlabel('False Positive Rate')\n",
    "plt.show()"
   ]
  },
  {
   "cell_type": "code",
   "execution_count": null,
   "id": "0a7775b5",
   "metadata": {},
   "outputs": [],
   "source": []
  }
 ],
 "metadata": {
  "kernelspec": {
   "display_name": "Python 3 (ipykernel)",
   "language": "python",
   "name": "python3"
  },
  "language_info": {
   "codemirror_mode": {
    "name": "ipython",
    "version": 3
   },
   "file_extension": ".py",
   "mimetype": "text/x-python",
   "name": "python",
   "nbconvert_exporter": "python",
   "pygments_lexer": "ipython3",
   "version": "3.9.7"
  }
 },
 "nbformat": 4,
 "nbformat_minor": 5
}
