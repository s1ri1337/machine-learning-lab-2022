{
 "cells": [
  {
   "cell_type": "code",
   "execution_count": 1,
   "metadata": {
    "colab": {
     "base_uri": "https://localhost:8080/"
    },
    "id": "NyGNjK8mFcki",
    "outputId": "dc633c66-9191-484d-f1d4-5bff8f546846"
   },
   "outputs": [],
   "source": [
    "import os\n",
    "os.environ[\"JAVA_HOME\"] = \"/usr/lib/jvm/java-8-openjdk\""
   ]
  },
  {
   "cell_type": "code",
   "execution_count": 2,
   "metadata": {
    "id": "wzHrx-jIaFZ6"
   },
   "outputs": [
    {
     "name": "stderr",
     "output_type": "stream",
     "text": [
      "22/05/30 00:31:05 WARN Utils: Your hostname, kembot resolves to a loopback address: 127.0.1.1; using 10.87.2.208 instead (on interface wlan0)\n",
      "22/05/30 00:31:05 WARN Utils: Set SPARK_LOCAL_IP if you need to bind to another address\n",
      "Using Spark's default log4j profile: org/apache/spark/log4j-defaults.properties\n",
      "Setting default log level to \"WARN\".\n",
      "To adjust logging level use sc.setLogLevel(newLevel). For SparkR, use setLogLevel(newLevel).\n",
      "22/05/30 00:31:06 WARN NativeCodeLoader: Unable to load native-hadoop library for your platform... using builtin-java classes where applicable\n"
     ]
    }
   ],
   "source": [
    "from pyspark.sql import SparkSession\n",
    "spark = SparkSession.builder.appName('Recommendations').getOrCreate()"
   ]
  },
  {
   "cell_type": "code",
   "execution_count": 3,
   "metadata": {
    "id": "fPNt484_ZHaX"
   },
   "outputs": [],
   "source": [
    "import pandas as pd\n",
    "from pyspark.sql.functions import col, explode, split\n",
    "from pyspark import SparkContext"
   ]
  },
  {
   "cell_type": "code",
   "execution_count": 4,
   "metadata": {
    "id": "H_fFWdk0ia4n"
   },
   "outputs": [],
   "source": [
    "from pyspark.ml.evaluation import RegressionEvaluator\n",
    "from pyspark.ml.recommendation import ALS\n",
    "from pyspark.ml.tuning import ParamGridBuilder, CrossValidator, TrainValidationSplit"
   ]
  },
  {
   "cell_type": "code",
   "execution_count": 5,
   "metadata": {
    "id": "RbJWJNMIDlWG"
   },
   "outputs": [],
   "source": [
    "def col_filtering(ratings_loc):\n",
    "    ratings = spark.read.option(\"inferSchema\",\"true\").csv(ratings_loc,header=True)\n",
    "    ratings = ratings.drop('timestamp')\n",
    "    \n",
    "    #(train, test) = ratings.randomSplit([0.9, 0.1], seed = 1234)\n",
    "    als = ALS(userCol=\"userId\", itemCol=\"movieId\", ratingCol=\"rating\", nonnegative = True, implicitPrefs = False, coldStartStrategy=\"drop\")\n",
    "    \n",
    "    param_grid = ParamGridBuilder() \\\n",
    "    .addGrid(als.rank, list(range(5,25,5))) \\\n",
    "            .addGrid(als.regParam, [0.001, 0.01, 0.05, 0.1]) \\\n",
    "            .build()\n",
    "    \n",
    "    evaluator = RegressionEvaluator(\n",
    "           metricName=\"rmse\", \n",
    "           labelCol=\"rating\", \n",
    "           predictionCol=\"prediction\") \n",
    "    print (\"Num models to be tested: \", len(param_grid))\n",
    "    \n",
    "    cv = CrossValidator(estimator=als, estimatorParamMaps=param_grid, evaluator=evaluator, numFolds=5)\n",
    "    \n",
    "    model = cv.fit(ratings)\n",
    "    best_model = model.bestModel\n",
    "    \n",
    "    print(\"**Best Model**\")\n",
    "    print(\"  Rank:\", best_model._java_obj.parent().getRank())\n",
    "    print(\"  MaxIter:\", best_model._java_obj.parent().getMaxIter())\n",
    "    print(\"  RegParam:\", best_model._java_obj.parent().getRegParam())\n",
    "    \n",
    "    #test_predictions = best_model.transform(test)\n",
    "    #RMSE = evaluator.evaluate(test_predictions)\n",
    "    #print(\"RMSE: \", RMSE)\n",
    "    \n",
    "    return best_model"
   ]
  },
  {
   "cell_type": "code",
   "execution_count": 8,
   "metadata": {
    "colab": {
     "base_uri": "https://localhost:8080/"
    },
    "id": "16D9LDUfDlWH",
    "outputId": "19c88dcc-a367-4e4b-97f3-132e78abcb7b"
   },
   "outputs": [
    {
     "name": "stdout",
     "output_type": "stream",
     "text": [
      "Num models to be tested:  16\n"
     ]
    },
    {
     "name": "stderr",
     "output_type": "stream",
     "text": [
      "22/05/30 00:33:03 WARN InstanceBuilder$NativeBLAS: Failed to load implementation from:dev.ludovic.netlib.blas.JNIBLAS\n",
      "22/05/30 00:33:03 WARN InstanceBuilder$NativeBLAS: Failed to load implementation from:dev.ludovic.netlib.blas.ForeignLinkerBLAS\n"
     ]
    },
    {
     "name": "stdout",
     "output_type": "stream",
     "text": [
      "**Best Model**\n",
      "  Rank: 20\n",
      "  MaxIter: 10\n",
      "  RegParam: 0.1\n",
      "Time = 201.1196472644806\n"
     ]
    },
    {
     "data": {
      "text/plain": [
       "ALSModel: uid=ALS_845353b640a8, rank=20"
      ]
     },
     "execution_count": 8,
     "metadata": {},
     "output_type": "execute_result"
    }
   ],
   "source": [
    "import time\n",
    "t1 = time.time()\n",
    "col_filtering_model = col_filtering(\"dataset/ratings.csv\")\n",
    "t2 = time.time()\n",
    "print(\"Time =\", t2 - t1)\n",
    "col_filtering_model"
   ]
  },
  {
   "cell_type": "code",
   "execution_count": 28,
   "metadata": {
    "id": "an5OnBg8DlWJ"
   },
   "outputs": [],
   "source": [
    "def recommend(model, movies_loc):\n",
    "  recommendations = model.recommendForAllUsers(10)\n",
    "  nrecommendations = recommendations.withColumn(\"rec_exp\", explode(\"recommendations\")).select('userId', col(\"rec_exp.movieId\"), col(\"rec_exp.rating\"))\n",
    "  movies = spark.read.csv(movies_loc,header=True)\n",
    "  nrecommendations = nrecommendations.join(movies, on = 'movieId')\n",
    "  return nrecommendations.toPandas()"
   ]
  },
  {
   "cell_type": "code",
   "execution_count": 19,
   "metadata": {},
   "outputs": [
    {
     "data": {
      "text/html": [
       "<div>\n",
       "<style scoped>\n",
       "    .dataframe tbody tr th:only-of-type {\n",
       "        vertical-align: middle;\n",
       "    }\n",
       "\n",
       "    .dataframe tbody tr th {\n",
       "        vertical-align: top;\n",
       "    }\n",
       "\n",
       "    .dataframe thead th {\n",
       "        text-align: right;\n",
       "    }\n",
       "</style>\n",
       "<table border=\"1\" class=\"dataframe\">\n",
       "  <thead>\n",
       "    <tr style=\"text-align: right;\">\n",
       "      <th></th>\n",
       "      <th>movieId</th>\n",
       "      <th>userId</th>\n",
       "      <th>rating</th>\n",
       "      <th>title</th>\n",
       "      <th>genres</th>\n",
       "    </tr>\n",
       "  </thead>\n",
       "  <tbody>\n",
       "    <tr>\n",
       "      <th>0</th>\n",
       "      <td>78836</td>\n",
       "      <td>1</td>\n",
       "      <td>5.572335</td>\n",
       "      <td>Enter the Void (2009)</td>\n",
       "      <td>Drama</td>\n",
       "    </tr>\n",
       "    <tr>\n",
       "      <th>1</th>\n",
       "      <td>171495</td>\n",
       "      <td>1</td>\n",
       "      <td>5.553287</td>\n",
       "      <td>Cosmos</td>\n",
       "      <td>(no genres listed)</td>\n",
       "    </tr>\n",
       "    <tr>\n",
       "      <th>2</th>\n",
       "      <td>720</td>\n",
       "      <td>1</td>\n",
       "      <td>5.511459</td>\n",
       "      <td>Wallace &amp; Gromit: The Best of Aardman Animatio...</td>\n",
       "      <td>Adventure|Animation|Comedy</td>\n",
       "    </tr>\n",
       "    <tr>\n",
       "      <th>3</th>\n",
       "      <td>33649</td>\n",
       "      <td>1</td>\n",
       "      <td>5.499642</td>\n",
       "      <td>Saving Face (2004)</td>\n",
       "      <td>Comedy|Drama|Romance</td>\n",
       "    </tr>\n",
       "    <tr>\n",
       "      <th>4</th>\n",
       "      <td>8477</td>\n",
       "      <td>1</td>\n",
       "      <td>5.494569</td>\n",
       "      <td>Jetée, La (1962)</td>\n",
       "      <td>Romance|Sci-Fi</td>\n",
       "    </tr>\n",
       "  </tbody>\n",
       "</table>\n",
       "</div>"
      ],
      "text/plain": [
       "   movieId  userId    rating  \\\n",
       "0    78836       1  5.572335   \n",
       "1   171495       1  5.553287   \n",
       "2      720       1  5.511459   \n",
       "3    33649       1  5.499642   \n",
       "4     8477       1  5.494569   \n",
       "\n",
       "                                               title  \\\n",
       "0                              Enter the Void (2009)   \n",
       "1                                             Cosmos   \n",
       "2  Wallace & Gromit: The Best of Aardman Animatio...   \n",
       "3                                 Saving Face (2004)   \n",
       "4                                   Jetée, La (1962)   \n",
       "\n",
       "                       genres  \n",
       "0                       Drama  \n",
       "1          (no genres listed)  \n",
       "2  Adventure|Animation|Comedy  \n",
       "3        Comedy|Drama|Romance  \n",
       "4              Romance|Sci-Fi  "
      ]
     },
     "execution_count": 19,
     "metadata": {},
     "output_type": "execute_result"
    }
   ],
   "source": [
    "nrc = recommend(col_filtering_model, \"dataset/movies.csv\")\n",
    "nrc.head()"
   ]
  },
  {
   "cell_type": "code",
   "execution_count": 25,
   "metadata": {},
   "outputs": [],
   "source": [
    "nrc.to_csv('recs.csv', index = False)"
   ]
  },
  {
   "cell_type": "code",
   "execution_count": 34,
   "metadata": {},
   "outputs": [],
   "source": [
    "rec = pd.read_csv('recs.csv')"
   ]
  },
  {
   "cell_type": "code",
   "execution_count": 44,
   "metadata": {},
   "outputs": [],
   "source": [
    "def recommendForUser(nrc, userNo):\n",
    "    return nrc.loc[nrc['userId'] == userNo][['title', 'genres']]"
   ]
  },
  {
   "cell_type": "code",
   "execution_count": 47,
   "metadata": {
    "colab": {
     "base_uri": "https://localhost:8080/",
     "height": 361
    },
    "id": "YXF0Gy43b221",
    "outputId": "8ffce2e4-a3fc-4586-eb95-d8be3bfb0587"
   },
   "outputs": [
    {
     "data": {
      "text/html": [
       "<div>\n",
       "<style scoped>\n",
       "    .dataframe tbody tr th:only-of-type {\n",
       "        vertical-align: middle;\n",
       "    }\n",
       "\n",
       "    .dataframe tbody tr th {\n",
       "        vertical-align: top;\n",
       "    }\n",
       "\n",
       "    .dataframe thead th {\n",
       "        text-align: right;\n",
       "    }\n",
       "</style>\n",
       "<table border=\"1\" class=\"dataframe\">\n",
       "  <thead>\n",
       "    <tr style=\"text-align: right;\">\n",
       "      <th></th>\n",
       "      <th>title</th>\n",
       "      <th>genres</th>\n",
       "    </tr>\n",
       "  </thead>\n",
       "  <tbody>\n",
       "    <tr>\n",
       "      <th>3440</th>\n",
       "      <td>Adam's Rib (1949)</td>\n",
       "      <td>Comedy|Romance</td>\n",
       "    </tr>\n",
       "    <tr>\n",
       "      <th>3441</th>\n",
       "      <td>Anne of Green Gables: The Sequel (a.k.a. Anne ...</td>\n",
       "      <td>Children|Drama|Romance</td>\n",
       "    </tr>\n",
       "    <tr>\n",
       "      <th>3442</th>\n",
       "      <td>Anne of Green Gables (1985)</td>\n",
       "      <td>Children|Drama</td>\n",
       "    </tr>\n",
       "    <tr>\n",
       "      <th>3443</th>\n",
       "      <td>Very Potter Sequel, A (2010)</td>\n",
       "      <td>Comedy|Musical</td>\n",
       "    </tr>\n",
       "    <tr>\n",
       "      <th>3444</th>\n",
       "      <td>Mr. Skeffington (1944)</td>\n",
       "      <td>Drama|Romance</td>\n",
       "    </tr>\n",
       "    <tr>\n",
       "      <th>3445</th>\n",
       "      <td>12 Angry Men (1997)</td>\n",
       "      <td>Crime|Drama</td>\n",
       "    </tr>\n",
       "    <tr>\n",
       "      <th>3446</th>\n",
       "      <td>Beautiful Thing (1996)</td>\n",
       "      <td>Drama|Romance</td>\n",
       "    </tr>\n",
       "    <tr>\n",
       "      <th>3447</th>\n",
       "      <td>Thief (1981)</td>\n",
       "      <td>Crime|Drama|Thriller</td>\n",
       "    </tr>\n",
       "    <tr>\n",
       "      <th>3448</th>\n",
       "      <td>Strictly Sexual (2008)</td>\n",
       "      <td>Comedy|Drama|Romance</td>\n",
       "    </tr>\n",
       "    <tr>\n",
       "      <th>3449</th>\n",
       "      <td>Dear Zachary: A Letter to a Son About His Fath...</td>\n",
       "      <td>Documentary</td>\n",
       "    </tr>\n",
       "  </tbody>\n",
       "</table>\n",
       "</div>"
      ],
      "text/plain": [
       "                                                  title  \\\n",
       "3440                                  Adam's Rib (1949)   \n",
       "3441  Anne of Green Gables: The Sequel (a.k.a. Anne ...   \n",
       "3442                        Anne of Green Gables (1985)   \n",
       "3443                       Very Potter Sequel, A (2010)   \n",
       "3444                             Mr. Skeffington (1944)   \n",
       "3445                                12 Angry Men (1997)   \n",
       "3446                             Beautiful Thing (1996)   \n",
       "3447                                       Thief (1981)   \n",
       "3448                             Strictly Sexual (2008)   \n",
       "3449  Dear Zachary: A Letter to a Son About His Fath...   \n",
       "\n",
       "                      genres  \n",
       "3440          Comedy|Romance  \n",
       "3441  Children|Drama|Romance  \n",
       "3442          Children|Drama  \n",
       "3443          Comedy|Musical  \n",
       "3444           Drama|Romance  \n",
       "3445             Crime|Drama  \n",
       "3446           Drama|Romance  \n",
       "3447    Crime|Drama|Thriller  \n",
       "3448    Comedy|Drama|Romance  \n",
       "3449             Documentary  "
      ]
     },
     "execution_count": 47,
     "metadata": {},
     "output_type": "execute_result"
    }
   ],
   "source": [
    "r100 = recommendForUser(rec, 100)\n",
    "r100"
   ]
  },
  {
   "cell_type": "code",
   "execution_count": 1,
   "metadata": {},
   "outputs": [],
   "source": [
    "import pandas as pd\n",
    "recs = pd.read_csv(\"recs.csv\")"
   ]
  },
  {
   "cell_type": "code",
   "execution_count": 10,
   "metadata": {},
   "outputs": [
    {
     "data": {
      "text/plain": [
       "{0: \"Adam's Rib (1949)\",\n",
       " 1: 'Anne of Green Gables: The Sequel (a.k.a. Anne of Avonlea) (1987)',\n",
       " 2: 'Anne of Green Gables (1985)',\n",
       " 3: 'Very Potter Sequel, A (2010)',\n",
       " 4: 'Mr. Skeffington (1944)',\n",
       " 5: '12 Angry Men (1997)',\n",
       " 6: 'Beautiful Thing (1996)',\n",
       " 7: 'Thief (1981)',\n",
       " 8: 'Strictly Sexual (2008)',\n",
       " 9: 'Dear Zachary: A Letter to a Son About His Father (2008)'}"
      ]
     },
     "execution_count": 10,
     "metadata": {},
     "output_type": "execute_result"
    }
   ],
   "source": [
    "rec100 = recs.loc[recs['userId'] == 100]['title'].reset_index(drop = True).to_dict()\n",
    "rec100"
   ]
  }
 ],
 "metadata": {
  "colab": {
   "collapsed_sections": [],
   "name": "200968232_phase2.ipynb",
   "provenance": []
  },
  "kernelspec": {
   "display_name": "Python 3 (ipykernel)",
   "language": "python",
   "name": "python3"
  },
  "language_info": {
   "codemirror_mode": {
    "name": "ipython",
    "version": 3
   },
   "file_extension": ".py",
   "mimetype": "text/x-python",
   "name": "python",
   "nbconvert_exporter": "python",
   "pygments_lexer": "ipython3",
   "version": "3.10.4"
  }
 },
 "nbformat": 4,
 "nbformat_minor": 1
}
